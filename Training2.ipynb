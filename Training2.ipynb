{
 "cells": [
  {
   "cell_type": "code",
   "execution_count": 12,
   "id": "85ee9922-a98b-467d-83f2-9212f46cc60f",
   "metadata": {
    "tags": []
   },
   "outputs": [],
   "source": [
    "import tensorflow as tf\n",
    "from tensorflow import keras\n",
    "# import keras\n",
    "# from keras import backend as K\n",
    "import numpy as np\n",
    "import cv2\n",
    "import matplotlib.pyplot as plt\n",
    "import numpy as np\n",
    "import pandas as pd\n",
    "import os\n",
    "from PIL import Image\n",
    "from tensorflow.keras.preprocessing.image import ImageDataGenerator"
   ]
  },
  {
   "cell_type": "code",
   "execution_count": 13,
   "id": "fc77c9e3-2903-467a-8b97-8a496bfa887e",
   "metadata": {},
   "outputs": [],
   "source": [
    "def generate_dataset():\n",
    "    \n",
    "    ''' Generate dataset from the csv files '''\n",
    "    \n",
    "    df = pd.read_csv('C:\\\\Users\\\\tanak\\\\Documents\\\\TamukaNongera\\\\WBS\\\\School\\\\Projects\\\\FinalProject\\\\Emoticall\\\\trainingsets.csv')\n",
    "    \n",
    "    train_samples = df[df['Usage']==\"Training\"]\n",
    "    validation_samples = df[df[\"Usage\"]==\"PublicTest\"]\n",
    "    test_samples = df[df[\"Usage\"]==\"PrivateTest\"]\n",
    "    \n",
    "    y_train = train_samples.emotion.astype(np.int32).values\n",
    "    y_valid = validation_samples.emotion.astype(np.int32).values\n",
    "    y_test = test_samples.emotion.astype(np.int32).values\n",
    "     \n",
    "    X_train =np.array([ np.fromstring(image, np.uint8, sep=\" \").reshape((48,48)) for image in train_samples.pixels])\n",
    "    X_valid =np.array([ np.fromstring(image, np.uint8, sep=\" \").reshape((48,48)) for image in validation_samples.pixels])\n",
    "    X_test =np.array([ np.fromstring(image, np.uint8, sep=\" \").reshape((48,48)) for image in test_samples.pixels])\n",
    "    \n",
    "    \n",
    "    return X_train, y_train, X_valid, y_valid, X_test, y_test"
   ]
  },
  {
   "cell_type": "markdown",
   "id": "c9d61cba-7d16-4b87-8d40-cff0a1d2773f",
   "metadata": {},
   "source": [
    "TRAIN FROM GPU"
   ]
  },
  {
   "cell_type": "code",
   "execution_count": 14,
   "id": "cfc738a8-2f63-49ed-8bae-4c55c39f80bd",
   "metadata": {},
   "outputs": [
    {
     "name": "stdout",
     "output_type": "stream",
     "text": [
      "Num GPUs: 1\n"
     ]
    }
   ],
   "source": [
    "tf.config.list_physical_devices(device_type=None)\n",
    "physical_devices = tf.config.list_physical_devices('GPU')\n",
    "print(\"Num GPUs:\", len(physical_devices))"
   ]
  },
  {
   "cell_type": "code",
   "execution_count": 10,
   "id": "58a34964-38bd-423d-8d24-b7d7503b0771",
   "metadata": {
    "collapsed": true,
    "jupyter": {
     "outputs_hidden": true
    },
    "tags": []
   },
   "outputs": [
    {
     "name": "stdout",
     "output_type": "stream",
     "text": [
      "WARNING:tensorflow:From C:\\Users\\tanak\\AppData\\Local\\Temp\\ipykernel_16056\\501681495.py:1: is_gpu_available (from tensorflow.python.framework.test_util) is deprecated and will be removed in a future version.\n",
      "Instructions for updating:\n",
      "Use `tf.config.list_physical_devices('GPU')` instead.\n"
     ]
    },
    {
     "data": {
      "text/plain": [
       "True"
      ]
     },
     "execution_count": 10,
     "metadata": {},
     "output_type": "execute_result"
    }
   ],
   "source": [
    "tf.test.is_gpu_available(\n",
    "    cuda_only=False, min_cuda_compute_capability=None\n",
    ")"
   ]
  },
  {
   "cell_type": "code",
   "execution_count": 11,
   "id": "0fe0297e-ffeb-416c-ace1-e8c3eb504e37",
   "metadata": {
    "collapsed": true,
    "jupyter": {
     "outputs_hidden": true
    },
    "tags": []
   },
   "outputs": [
    {
     "name": "stdout",
     "output_type": "stream",
     "text": [
      "[name: \"/device:CPU:0\"\n",
      "device_type: \"CPU\"\n",
      "memory_limit: 268435456\n",
      "locality {\n",
      "}\n",
      "incarnation: 7848548293394171275\n",
      "xla_global_id: -1\n",
      ", name: \"/device:GPU:0\"\n",
      "device_type: \"GPU\"\n",
      "memory_limit: 1429661286\n",
      "locality {\n",
      "  bus_id: 1\n",
      "  links {\n",
      "  }\n",
      "}\n",
      "incarnation: 8586921631607805947\n",
      "physical_device_desc: \"device: 0, name: NVIDIA GeForce 940MX, pci bus id: 0000:01:00.0, compute capability: 5.0\"\n",
      "xla_global_id: 416903419\n",
      "]\n"
     ]
    }
   ],
   "source": [
    "from tensorflow.python.client import device_lib\n",
    "print(device_lib.list_local_devices())"
   ]
  },
  {
   "cell_type": "markdown",
   "id": "4c38660f-01fc-41a5-bd75-1657c077524a",
   "metadata": {},
   "source": [
    "TRAINING MODEL"
   ]
  },
  {
   "cell_type": "code",
   "execution_count": 15,
   "id": "b0e31b63-3a30-47b7-bbb1-0913431822ab",
   "metadata": {},
   "outputs": [],
   "source": [
    "def generate_model(learning_rate=0.001):\n",
    "    \n",
    "    with tf.device('/gpu:0'):  \n",
    "        \n",
    "        model = keras.models.Sequential()\n",
    "        \n",
    "        model.add(keras.layers.Conv2D(64,(3,3), input_shape=(48,48, 1), padding=\"same\"))\n",
    "        model.add(keras.layers.BatchNormalization())\n",
    "        model.add(keras.layers.Activation('relu'))\n",
    "        model.add(keras.layers.MaxPooling2D())\n",
    "        model.add(keras.layers.Dropout(0.20))\n",
    "        \n",
    "        model.add(keras.layers.Conv2D(128,(5,5), padding='same'))\n",
    "        model.add(keras.layers.BatchNormalization())\n",
    "        model.add(keras.layers.Activation('relu'))\n",
    "        model.add(keras.layers.MaxPooling2D())\n",
    "        model.add(keras.layers.Dropout(0.20))\n",
    "\n",
    "        model.add(keras.layers.Conv2D(512,(3,3), padding=\"same\"))\n",
    "        model.add(keras.layers.BatchNormalization())\n",
    "        model.add(keras.layers.Activation('relu'))\n",
    "        model.add(keras.layers.MaxPooling2D())\n",
    "        model.add(keras.layers.Dropout(0.20))\n",
    "        \n",
    "        model.add(keras.layers.Conv2D(512,(3,3), padding=\"same\"))\n",
    "        model.add(keras.layers.BatchNormalization())\n",
    "        model.add(keras.layers.Activation('relu'))\n",
    "        model.add(keras.layers.MaxPooling2D())\n",
    "        model.add(keras.layers.Dropout(0.25))\n",
    "        \n",
    "        model.add(keras.layers.Conv2D(256,(3,3), padding=\"same\", activation='relu'))\n",
    "        model.add(keras.layers.Conv2D(128,(3,3), padding='same', activation='relu'))\n",
    "        model.add(keras.layers.MaxPooling2D())\n",
    "        model.add(keras.layers.Dropout(0.25))\n",
    "        \n",
    "        #model.add(keras.layers.GlobalAveragePooling2D())\n",
    "        model.add(keras.layers.Flatten())\n",
    "        model.add(keras.layers.Dense(256))\n",
    "        model.add(keras.layers.BatchNormalization())\n",
    "        model.add(keras.layers.Activation('relu'))\n",
    "        model.add(keras.layers.Dropout(0.5))\n",
    "        \n",
    "        model.add(keras.layers.Dense(512, activation='relu'))\n",
    "        model.add(keras.layers.BatchNormalization())\n",
    "        model.add(keras.layers.Activation('relu'))\n",
    "        model.add(keras.layers.Dropout(0.5))\n",
    "        \n",
    "        model.add(keras.layers.Dense(7,activation='softmax'))\n",
    "        \n",
    "        model.compile(loss=\"sparse_categorical_crossentropy\", optimizer=keras.optimizers.Adam(learning_rate=learning_rate) , metrics=['accuracy'])\n",
    "        return model"
   ]
  },
  {
   "cell_type": "markdown",
   "id": "60092943-0593-42da-ade1-160c482fc809",
   "metadata": {},
   "source": [
    "GENERATE MODEL"
   ]
  },
  {
   "cell_type": "code",
   "execution_count": 16,
   "id": "daa8d17e-61ba-4a3d-a486-4f47f814db0b",
   "metadata": {},
   "outputs": [
    {
     "name": "stderr",
     "output_type": "stream",
     "text": [
      "C:\\Users\\tanak\\anaconda3\\envs\\tf\\lib\\site-packages\\tensorflow\\python\\keras\\optimizer_v2\\optimizer_v2.py:374: UserWarning: The `lr` argument is deprecated, use `learning_rate` instead.\n",
      "  warnings.warn(\n"
     ]
    },
    {
     "name": "stdout",
     "output_type": "stream",
     "text": [
      "Epoch 1/35\n",
      "95/95 [==============================] - 51s 430ms/step - loss: 1.9821 - accuracy: 0.2422 - val_loss: 1.6078 - val_accuracy: 0.2887\n",
      "Epoch 2/35\n",
      "95/95 [==============================] - 37s 393ms/step - loss: 1.7307 - accuracy: 0.2664 - val_loss: 1.5899 - val_accuracy: 0.2957\n",
      "Epoch 3/35\n",
      "95/95 [==============================] - 37s 393ms/step - loss: 1.6616 - accuracy: 0.2700 - val_loss: 1.6058 - val_accuracy: 0.2957\n",
      "Epoch 4/35\n",
      "95/95 [==============================] - 37s 394ms/step - loss: 1.6019 - accuracy: 0.2819 - val_loss: 1.5747 - val_accuracy: 0.2998\n",
      "Epoch 5/35\n",
      "95/95 [==============================] - 37s 395ms/step - loss: 1.5712 - accuracy: 0.2990 - val_loss: 1.6369 - val_accuracy: 0.3061\n",
      "Epoch 6/35\n",
      "95/95 [==============================] - 38s 395ms/step - loss: 1.5247 - accuracy: 0.3292 - val_loss: 1.7504 - val_accuracy: 0.2126\n",
      "Epoch 7/35\n",
      "95/95 [==============================] - 38s 396ms/step - loss: 1.4698 - accuracy: 0.3523 - val_loss: 1.6036 - val_accuracy: 0.2938\n",
      "Epoch 8/35\n",
      "95/95 [==============================] - 38s 396ms/step - loss: 1.4140 - accuracy: 0.3725 - val_loss: 1.6078 - val_accuracy: 0.2975\n",
      "Epoch 9/35\n",
      "95/95 [==============================] - 38s 397ms/step - loss: 1.3272 - accuracy: 0.4251 - val_loss: 2.6108 - val_accuracy: 0.2957\n",
      "Epoch 10/35\n",
      "95/95 [==============================] - 38s 397ms/step - loss: 1.2697 - accuracy: 0.4522 - val_loss: 1.3754 - val_accuracy: 0.3895\n",
      "Epoch 11/35\n",
      "95/95 [==============================] - 39s 410ms/step - loss: 1.2168 - accuracy: 0.4727 - val_loss: 1.3395 - val_accuracy: 0.3977\n",
      "Epoch 12/35\n",
      "95/95 [==============================] - 38s 402ms/step - loss: 1.1747 - accuracy: 0.4922 - val_loss: 1.9401 - val_accuracy: 0.3456\n",
      "Epoch 13/35\n",
      "95/95 [==============================] - 38s 402ms/step - loss: 1.1232 - accuracy: 0.5112 - val_loss: 1.3592 - val_accuracy: 0.4113\n",
      "Epoch 14/35\n",
      "95/95 [==============================] - 38s 402ms/step - loss: 1.0665 - accuracy: 0.5254 - val_loss: 1.2791 - val_accuracy: 0.4350\n",
      "Epoch 15/35\n",
      "95/95 [==============================] - 38s 402ms/step - loss: 1.0352 - accuracy: 0.5389 - val_loss: 1.6077 - val_accuracy: 0.3263\n",
      "Epoch 16/35\n",
      "95/95 [==============================] - 38s 403ms/step - loss: 1.0073 - accuracy: 0.5583 - val_loss: 1.2570 - val_accuracy: 0.4729\n",
      "Epoch 17/35\n",
      "95/95 [==============================] - 38s 402ms/step - loss: 0.9707 - accuracy: 0.5824 - val_loss: 1.4959 - val_accuracy: 0.3896\n",
      "Epoch 18/35\n",
      "95/95 [==============================] - 38s 402ms/step - loss: 0.9379 - accuracy: 0.6165 - val_loss: 1.0596 - val_accuracy: 0.5718\n",
      "Epoch 19/35\n",
      "95/95 [==============================] - 38s 402ms/step - loss: 0.8928 - accuracy: 0.6435 - val_loss: 1.1807 - val_accuracy: 0.5119\n",
      "Epoch 20/35\n",
      "95/95 [==============================] - 38s 403ms/step - loss: 0.8399 - accuracy: 0.6725 - val_loss: 1.1136 - val_accuracy: 0.5751\n",
      "Epoch 21/35\n",
      "95/95 [==============================] - 38s 402ms/step - loss: 0.8012 - accuracy: 0.6907 - val_loss: 1.0776 - val_accuracy: 0.5864\n",
      "Epoch 22/35\n",
      "95/95 [==============================] - 38s 402ms/step - loss: 0.7608 - accuracy: 0.7163 - val_loss: 1.0877 - val_accuracy: 0.5826\n",
      "Epoch 23/35\n",
      "95/95 [==============================] - 38s 405ms/step - loss: 0.7316 - accuracy: 0.7256 - val_loss: 1.1222 - val_accuracy: 0.6019\n",
      "Epoch 24/35\n",
      "95/95 [==============================] - 38s 402ms/step - loss: 0.6871 - accuracy: 0.7433 - val_loss: 1.0857 - val_accuracy: 0.6163\n",
      "Epoch 25/35\n",
      "95/95 [==============================] - 38s 402ms/step - loss: 0.6521 - accuracy: 0.7614 - val_loss: 1.6923 - val_accuracy: 0.4692\n",
      "Epoch 26/35\n",
      "95/95 [==============================] - 38s 402ms/step - loss: 0.6104 - accuracy: 0.7726 - val_loss: 1.2397 - val_accuracy: 0.5506\n",
      "Epoch 27/35\n",
      "95/95 [==============================] - 38s 402ms/step - loss: 0.5812 - accuracy: 0.7894 - val_loss: 1.0491 - val_accuracy: 0.6160\n",
      "Epoch 28/35\n",
      "95/95 [==============================] - 38s 404ms/step - loss: 0.5485 - accuracy: 0.8028 - val_loss: 1.2785 - val_accuracy: 0.5534\n",
      "Epoch 29/35\n",
      "95/95 [==============================] - 38s 404ms/step - loss: 0.5057 - accuracy: 0.8182 - val_loss: 1.2744 - val_accuracy: 0.5702\n",
      "Epoch 30/35\n",
      "95/95 [==============================] - 39s 407ms/step - loss: 0.4560 - accuracy: 0.8425 - val_loss: 1.9279 - val_accuracy: 0.4480\n",
      "Epoch 31/35\n",
      "95/95 [==============================] - 39s 410ms/step - loss: 0.4492 - accuracy: 0.8458 - val_loss: 1.8663 - val_accuracy: 0.5036\n",
      "Epoch 32/35\n",
      "95/95 [==============================] - 40s 422ms/step - loss: 0.4196 - accuracy: 0.8546 - val_loss: 1.4852 - val_accuracy: 0.5528\n",
      "Epoch 33/35\n",
      "95/95 [==============================] - 39s 409ms/step - loss: 0.3819 - accuracy: 0.8693 - val_loss: 1.2560 - val_accuracy: 0.6168\n",
      "Epoch 34/35\n",
      "95/95 [==============================] - 39s 415ms/step - loss: 0.3540 - accuracy: 0.8770 - val_loss: 1.4985 - val_accuracy: 0.5554\n",
      "Epoch 35/35\n",
      "95/95 [==============================] - 40s 420ms/step - loss: 0.3381 - accuracy: 0.8831 - val_loss: 1.4181 - val_accuracy: 0.5928\n"
     ]
    }
   ],
   "source": [
    "if __name__==\"__main__\":\n",
    "    \n",
    "    #df = pd.read_csv(\"./fer2013/fer2013.csv\")\n",
    "    X_train, y_train, X_valid, y_valid, X_test, y_test =  generate_dataset()\n",
    "    \n",
    "    X_train = X_train.reshape((-1,48,48,1)).astype(np.float32)\n",
    "    X_valid = X_valid.reshape((-1,48,48,1)).astype(np.float32)\n",
    "    X_test = X_test.reshape((-1,48,48,1)).astype(np.float32)\n",
    "    \n",
    "    X_train_std = X_train/255.\n",
    "    X_valid_std = X_valid/255.\n",
    "    X_test_std = X_test/255.\n",
    "    \n",
    "    model = generate_model(0.01)\n",
    "    with tf.device(\"/gpu:0\"):\n",
    "        history = model.fit(X_train_std, y_train,batch_size=128,epochs=35, validation_data=(X_valid_std, y_valid), shuffle=True)\n",
    "        model.save(\"my_model.h5\")"
   ]
  },
  {
   "cell_type": "code",
   "execution_count": null,
   "id": "c8befc0e-bc82-453e-896b-b527ec4c08d9",
   "metadata": {},
   "outputs": [],
   "source": []
  }
 ],
 "metadata": {
  "kernelspec": {
   "display_name": "tf",
   "language": "python",
   "name": "tf"
  },
  "language_info": {
   "codemirror_mode": {
    "name": "ipython",
    "version": 3
   },
   "file_extension": ".py",
   "mimetype": "text/x-python",
   "name": "python",
   "nbconvert_exporter": "python",
   "pygments_lexer": "ipython3",
   "version": "3.9.12"
  }
 },
 "nbformat": 4,
 "nbformat_minor": 5
}

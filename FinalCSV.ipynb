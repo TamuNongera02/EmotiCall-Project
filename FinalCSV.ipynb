{
 "cells": [
  {
   "cell_type": "code",
   "execution_count": 2,
   "id": "b33c449d-bd76-45ba-b2dc-c47cf59c91f8",
   "metadata": {},
   "outputs": [],
   "source": [
    "import numpy as np\n",
    "import pandas as pd\n",
    "import os\n",
    "from PIL import Image\n",
    "from numpy import savetxt"
   ]
  },
  {
   "cell_type": "markdown",
   "id": "a863540f-2bd8-4240-8a35-5677633a3a7b",
   "metadata": {},
   "source": [
    "LOAD IMAGE FILES FOR TRAINING"
   ]
  },
  {
   "cell_type": "code",
   "execution_count": 3,
   "id": "fef9d03d-4d4b-4b33-93b3-a041905743c6",
   "metadata": {},
   "outputs": [],
   "source": [
    "def ListofFiles(Dir):\n",
    "    Files = []\n",
    "    for root, dir_name, file_name in os.walk(Dir): \n",
    "#root store address till directory, dir_name stores directory name # file_name stores file name\n",
    "        for name in file_name:\n",
    "            fullName = os.path.join(root, name)\n",
    "            Files.append(fullName)\n",
    "    return Files"
   ]
  },
  {
   "cell_type": "markdown",
   "id": "1372a1d7-e281-4e0a-a64c-67551babed90",
   "metadata": {},
   "source": [
    "CREATE FILE LIST"
   ]
  },
  {
   "cell_type": "code",
   "execution_count": 4,
   "id": "e18b51ff-2bf2-4b21-b874-ceb2f6a7288f",
   "metadata": {},
   "outputs": [],
   "source": [
    "FileList = ListofFiles('FerDataset/train/')"
   ]
  },
  {
   "cell_type": "code",
   "execution_count": 5,
   "id": "c39c7a63-24f5-4c6f-8dd8-82fe1378997b",
   "metadata": {
    "tags": []
   },
   "outputs": [
    {
     "data": {
      "text/plain": [
       "24175"
      ]
     },
     "execution_count": 5,
     "metadata": {},
     "output_type": "execute_result"
    }
   ],
   "source": [
    "len(FileList)"
   ]
  },
  {
   "cell_type": "markdown",
   "id": "9053666b-c4c2-4c88-aa01-3660abc9fa4c",
   "metadata": {},
   "source": [
    "OPEN IMAGES AND CONVERT TO ARRAY"
   ]
  },
  {
   "cell_type": "code",
   "execution_count": 6,
   "id": "b5946036-e31d-4b97-bd33-f77fac043335",
   "metadata": {
    "tags": []
   },
   "outputs": [],
   "source": [
    "pixels = []\n",
    "for file in FileList:\n",
    "    Im = Image.open(file)\n",
    "    pixels.append(list(Im.getdata()))"
   ]
  },
  {
   "cell_type": "markdown",
   "id": "a57fcc44-732e-4ad2-9676-8eb8f2308f35",
   "metadata": {},
   "source": [
    "SAVE LABEL FOR EMOTIONS"
   ]
  },
  {
   "cell_type": "code",
   "execution_count": 7,
   "id": "c9b0e41d-14dc-43f3-92e2-f2e2c6acf7ad",
   "metadata": {},
   "outputs": [],
   "source": [
    "label = []\n",
    "for file in FileList:\n",
    "    split_path_1 = file.split(\"/\")[2]\n",
    "    split_path_2 = split_path_1.split(\"\\\\\")[0]\n",
    "    label.append(split_path_2)"
   ]
  },
  {
   "cell_type": "code",
   "execution_count": 8,
   "id": "5b4de5c8-4617-45a8-abbd-01d404cec40a",
   "metadata": {
    "tags": []
   },
   "outputs": [
    {
     "data": {
      "text/plain": [
       "24175"
      ]
     },
     "execution_count": 8,
     "metadata": {},
     "output_type": "execute_result"
    }
   ],
   "source": [
    "len(label)"
   ]
  },
  {
   "cell_type": "code",
   "execution_count": 9,
   "id": "c795911e-500b-43c6-b260-b8621bfcde73",
   "metadata": {},
   "outputs": [],
   "source": [
    "label_array = np.asarray(label)\n",
    "label_array.flatten()\n",
    "img_label = pd.DataFrame(label_array) "
   ]
  },
  {
   "cell_type": "code",
   "execution_count": 10,
   "id": "030c2524-bda7-4772-a5ed-2201ee573dcc",
   "metadata": {},
   "outputs": [],
   "source": [
    "pixels_array = np.asarray(pixels)\n",
    "pixels_array.flatten()\n",
    "pixel_img = pd.DataFrame(pixels_array) \n",
    "# pixels_arr.stack().reset_index()   \n",
    "# pixel = pd.DataFrame(pixels_arr)\n",
    "# pixel_img['emotion'] = label"
   ]
  },
  {
   "cell_type": "code",
   "execution_count": 11,
   "id": "7580eb80-1d6a-446a-9fca-915552f5a750",
   "metadata": {
    "tags": []
   },
   "outputs": [],
   "source": [
    "img_label['emotion'] = img_label"
   ]
  },
  {
   "cell_type": "code",
   "execution_count": 12,
   "id": "8705da86-fade-4c79-95d2-aad61a244794",
   "metadata": {
    "collapsed": true,
    "jupyter": {
     "outputs_hidden": true
    },
    "tags": []
   },
   "outputs": [
    {
     "data": {
      "text/html": [
       "<div>\n",
       "<style scoped>\n",
       "    .dataframe tbody tr th:only-of-type {\n",
       "        vertical-align: middle;\n",
       "    }\n",
       "\n",
       "    .dataframe tbody tr th {\n",
       "        vertical-align: top;\n",
       "    }\n",
       "\n",
       "    .dataframe thead th {\n",
       "        text-align: right;\n",
       "    }\n",
       "</style>\n",
       "<table border=\"1\" class=\"dataframe\">\n",
       "  <thead>\n",
       "    <tr style=\"text-align: right;\">\n",
       "      <th></th>\n",
       "      <th>0</th>\n",
       "      <th>emotion</th>\n",
       "    </tr>\n",
       "  </thead>\n",
       "  <tbody>\n",
       "    <tr>\n",
       "      <th>0</th>\n",
       "      <td>0</td>\n",
       "      <td>0</td>\n",
       "    </tr>\n",
       "    <tr>\n",
       "      <th>1</th>\n",
       "      <td>0</td>\n",
       "      <td>0</td>\n",
       "    </tr>\n",
       "    <tr>\n",
       "      <th>2</th>\n",
       "      <td>0</td>\n",
       "      <td>0</td>\n",
       "    </tr>\n",
       "    <tr>\n",
       "      <th>3</th>\n",
       "      <td>0</td>\n",
       "      <td>0</td>\n",
       "    </tr>\n",
       "    <tr>\n",
       "      <th>4</th>\n",
       "      <td>0</td>\n",
       "      <td>0</td>\n",
       "    </tr>\n",
       "    <tr>\n",
       "      <th>...</th>\n",
       "      <td>...</td>\n",
       "      <td>...</td>\n",
       "    </tr>\n",
       "    <tr>\n",
       "      <th>24170</th>\n",
       "      <td>4</td>\n",
       "      <td>4</td>\n",
       "    </tr>\n",
       "    <tr>\n",
       "      <th>24171</th>\n",
       "      <td>4</td>\n",
       "      <td>4</td>\n",
       "    </tr>\n",
       "    <tr>\n",
       "      <th>24172</th>\n",
       "      <td>4</td>\n",
       "      <td>4</td>\n",
       "    </tr>\n",
       "    <tr>\n",
       "      <th>24173</th>\n",
       "      <td>4</td>\n",
       "      <td>4</td>\n",
       "    </tr>\n",
       "    <tr>\n",
       "      <th>24174</th>\n",
       "      <td>4</td>\n",
       "      <td>4</td>\n",
       "    </tr>\n",
       "  </tbody>\n",
       "</table>\n",
       "<p>24175 rows × 2 columns</p>\n",
       "</div>"
      ],
      "text/plain": [
       "       0 emotion\n",
       "0      0       0\n",
       "1      0       0\n",
       "2      0       0\n",
       "3      0       0\n",
       "4      0       0\n",
       "...   ..     ...\n",
       "24170  4       4\n",
       "24171  4       4\n",
       "24172  4       4\n",
       "24173  4       4\n",
       "24174  4       4\n",
       "\n",
       "[24175 rows x 2 columns]"
      ]
     },
     "execution_count": 12,
     "metadata": {},
     "output_type": "execute_result"
    }
   ],
   "source": [
    "img_label"
   ]
  },
  {
   "cell_type": "code",
   "execution_count": 13,
   "id": "6f649bc1-3af9-4534-a76b-04a077c66b40",
   "metadata": {},
   "outputs": [],
   "source": [
    "pixel_img['pixels'] = pixel_img.apply(lambda row: ' '.join(row.values.astype(str)), axis=1)"
   ]
  },
  {
   "cell_type": "code",
   "execution_count": 12,
   "id": "ac703ea0-4957-439d-b555-d6b200525e90",
   "metadata": {
    "tags": []
   },
   "outputs": [
    {
     "data": {
      "text/html": [
       "<div>\n",
       "<style scoped>\n",
       "    .dataframe tbody tr th:only-of-type {\n",
       "        vertical-align: middle;\n",
       "    }\n",
       "\n",
       "    .dataframe tbody tr th {\n",
       "        vertical-align: top;\n",
       "    }\n",
       "\n",
       "    .dataframe thead th {\n",
       "        text-align: right;\n",
       "    }\n",
       "</style>\n",
       "<table border=\"1\" class=\"dataframe\">\n",
       "  <thead>\n",
       "    <tr style=\"text-align: right;\">\n",
       "      <th></th>\n",
       "      <th>0</th>\n",
       "      <th>1</th>\n",
       "      <th>2</th>\n",
       "      <th>3</th>\n",
       "      <th>4</th>\n",
       "      <th>5</th>\n",
       "      <th>6</th>\n",
       "      <th>7</th>\n",
       "      <th>8</th>\n",
       "      <th>9</th>\n",
       "      <th>...</th>\n",
       "      <th>2295</th>\n",
       "      <th>2296</th>\n",
       "      <th>2297</th>\n",
       "      <th>2298</th>\n",
       "      <th>2299</th>\n",
       "      <th>2300</th>\n",
       "      <th>2301</th>\n",
       "      <th>2302</th>\n",
       "      <th>2303</th>\n",
       "      <th>pixels</th>\n",
       "    </tr>\n",
       "  </thead>\n",
       "  <tbody>\n",
       "    <tr>\n",
       "      <th>0</th>\n",
       "      <td>211</td>\n",
       "      <td>215</td>\n",
       "      <td>220</td>\n",
       "      <td>221</td>\n",
       "      <td>219</td>\n",
       "      <td>216</td>\n",
       "      <td>213</td>\n",
       "      <td>210</td>\n",
       "      <td>207</td>\n",
       "      <td>205</td>\n",
       "      <td>...</td>\n",
       "      <td>170</td>\n",
       "      <td>168</td>\n",
       "      <td>162</td>\n",
       "      <td>170</td>\n",
       "      <td>169</td>\n",
       "      <td>160</td>\n",
       "      <td>159</td>\n",
       "      <td>156</td>\n",
       "      <td>152</td>\n",
       "      <td>211 215 220 221 219 216 213 210 207 205 202 20...</td>\n",
       "    </tr>\n",
       "    <tr>\n",
       "      <th>1</th>\n",
       "      <td>29</td>\n",
       "      <td>25</td>\n",
       "      <td>58</td>\n",
       "      <td>103</td>\n",
       "      <td>129</td>\n",
       "      <td>134</td>\n",
       "      <td>141</td>\n",
       "      <td>154</td>\n",
       "      <td>157</td>\n",
       "      <td>159</td>\n",
       "      <td>...</td>\n",
       "      <td>152</td>\n",
       "      <td>144</td>\n",
       "      <td>137</td>\n",
       "      <td>118</td>\n",
       "      <td>83</td>\n",
       "      <td>32</td>\n",
       "      <td>31</td>\n",
       "      <td>79</td>\n",
       "      <td>65</td>\n",
       "      <td>29 25 58 103 129 134 141 154 157 159 166 164 1...</td>\n",
       "    </tr>\n",
       "    <tr>\n",
       "      <th>2</th>\n",
       "      <td>122</td>\n",
       "      <td>159</td>\n",
       "      <td>135</td>\n",
       "      <td>51</td>\n",
       "      <td>82</td>\n",
       "      <td>96</td>\n",
       "      <td>78</td>\n",
       "      <td>122</td>\n",
       "      <td>168</td>\n",
       "      <td>169</td>\n",
       "      <td>...</td>\n",
       "      <td>46</td>\n",
       "      <td>40</td>\n",
       "      <td>29</td>\n",
       "      <td>36</td>\n",
       "      <td>49</td>\n",
       "      <td>47</td>\n",
       "      <td>47</td>\n",
       "      <td>53</td>\n",
       "      <td>54</td>\n",
       "      <td>122 159 135 51 82 96 78 122 168 169 165 166 16...</td>\n",
       "    </tr>\n",
       "    <tr>\n",
       "      <th>3</th>\n",
       "      <td>229</td>\n",
       "      <td>229</td>\n",
       "      <td>224</td>\n",
       "      <td>226</td>\n",
       "      <td>211</td>\n",
       "      <td>129</td>\n",
       "      <td>79</td>\n",
       "      <td>55</td>\n",
       "      <td>13</td>\n",
       "      <td>22</td>\n",
       "      <td>...</td>\n",
       "      <td>150</td>\n",
       "      <td>204</td>\n",
       "      <td>215</td>\n",
       "      <td>214</td>\n",
       "      <td>220</td>\n",
       "      <td>220</td>\n",
       "      <td>223</td>\n",
       "      <td>202</td>\n",
       "      <td>126</td>\n",
       "      <td>229 229 224 226 211 129 79 55 13 22 24 17 19 1...</td>\n",
       "    </tr>\n",
       "    <tr>\n",
       "      <th>4</th>\n",
       "      <td>117</td>\n",
       "      <td>113</td>\n",
       "      <td>109</td>\n",
       "      <td>94</td>\n",
       "      <td>72</td>\n",
       "      <td>62</td>\n",
       "      <td>64</td>\n",
       "      <td>65</td>\n",
       "      <td>68</td>\n",
       "      <td>74</td>\n",
       "      <td>...</td>\n",
       "      <td>106</td>\n",
       "      <td>93</td>\n",
       "      <td>55</td>\n",
       "      <td>30</td>\n",
       "      <td>30</td>\n",
       "      <td>23</td>\n",
       "      <td>49</td>\n",
       "      <td>163</td>\n",
       "      <td>179</td>\n",
       "      <td>117 113 109 94 72 62 64 65 68 74 187 213 209 2...</td>\n",
       "    </tr>\n",
       "    <tr>\n",
       "      <th>...</th>\n",
       "      <td>...</td>\n",
       "      <td>...</td>\n",
       "      <td>...</td>\n",
       "      <td>...</td>\n",
       "      <td>...</td>\n",
       "      <td>...</td>\n",
       "      <td>...</td>\n",
       "      <td>...</td>\n",
       "      <td>...</td>\n",
       "      <td>...</td>\n",
       "      <td>...</td>\n",
       "      <td>...</td>\n",
       "      <td>...</td>\n",
       "      <td>...</td>\n",
       "      <td>...</td>\n",
       "      <td>...</td>\n",
       "      <td>...</td>\n",
       "      <td>...</td>\n",
       "      <td>...</td>\n",
       "      <td>...</td>\n",
       "      <td>...</td>\n",
       "    </tr>\n",
       "    <tr>\n",
       "      <th>595</th>\n",
       "      <td>112</td>\n",
       "      <td>113</td>\n",
       "      <td>114</td>\n",
       "      <td>115</td>\n",
       "      <td>115</td>\n",
       "      <td>114</td>\n",
       "      <td>115</td>\n",
       "      <td>115</td>\n",
       "      <td>115</td>\n",
       "      <td>114</td>\n",
       "      <td>...</td>\n",
       "      <td>136</td>\n",
       "      <td>97</td>\n",
       "      <td>82</td>\n",
       "      <td>114</td>\n",
       "      <td>112</td>\n",
       "      <td>86</td>\n",
       "      <td>61</td>\n",
       "      <td>31</td>\n",
       "      <td>81</td>\n",
       "      <td>112 113 114 115 115 114 115 115 115 114 109 10...</td>\n",
       "    </tr>\n",
       "    <tr>\n",
       "      <th>596</th>\n",
       "      <td>206</td>\n",
       "      <td>188</td>\n",
       "      <td>194</td>\n",
       "      <td>168</td>\n",
       "      <td>105</td>\n",
       "      <td>72</td>\n",
       "      <td>35</td>\n",
       "      <td>48</td>\n",
       "      <td>39</td>\n",
       "      <td>54</td>\n",
       "      <td>...</td>\n",
       "      <td>98</td>\n",
       "      <td>93</td>\n",
       "      <td>85</td>\n",
       "      <td>85</td>\n",
       "      <td>76</td>\n",
       "      <td>88</td>\n",
       "      <td>88</td>\n",
       "      <td>80</td>\n",
       "      <td>98</td>\n",
       "      <td>206 188 194 168 105 72 35 48 39 54 67 77 80 88...</td>\n",
       "    </tr>\n",
       "    <tr>\n",
       "      <th>597</th>\n",
       "      <td>28</td>\n",
       "      <td>53</td>\n",
       "      <td>83</td>\n",
       "      <td>91</td>\n",
       "      <td>102</td>\n",
       "      <td>70</td>\n",
       "      <td>33</td>\n",
       "      <td>16</td>\n",
       "      <td>51</td>\n",
       "      <td>100</td>\n",
       "      <td>...</td>\n",
       "      <td>186</td>\n",
       "      <td>171</td>\n",
       "      <td>143</td>\n",
       "      <td>129</td>\n",
       "      <td>102</td>\n",
       "      <td>29</td>\n",
       "      <td>23</td>\n",
       "      <td>39</td>\n",
       "      <td>39</td>\n",
       "      <td>28 53 83 91 102 70 33 16 51 100 111 139 162 17...</td>\n",
       "    </tr>\n",
       "    <tr>\n",
       "      <th>598</th>\n",
       "      <td>65</td>\n",
       "      <td>85</td>\n",
       "      <td>96</td>\n",
       "      <td>84</td>\n",
       "      <td>21</td>\n",
       "      <td>23</td>\n",
       "      <td>30</td>\n",
       "      <td>31</td>\n",
       "      <td>35</td>\n",
       "      <td>29</td>\n",
       "      <td>...</td>\n",
       "      <td>173</td>\n",
       "      <td>122</td>\n",
       "      <td>36</td>\n",
       "      <td>40</td>\n",
       "      <td>44</td>\n",
       "      <td>134</td>\n",
       "      <td>190</td>\n",
       "      <td>210</td>\n",
       "      <td>208</td>\n",
       "      <td>65 85 96 84 21 23 30 31 35 29 28 27 38 88 117 ...</td>\n",
       "    </tr>\n",
       "    <tr>\n",
       "      <th>599</th>\n",
       "      <td>100</td>\n",
       "      <td>86</td>\n",
       "      <td>79</td>\n",
       "      <td>47</td>\n",
       "      <td>23</td>\n",
       "      <td>25</td>\n",
       "      <td>20</td>\n",
       "      <td>23</td>\n",
       "      <td>25</td>\n",
       "      <td>26</td>\n",
       "      <td>...</td>\n",
       "      <td>127</td>\n",
       "      <td>127</td>\n",
       "      <td>128</td>\n",
       "      <td>129</td>\n",
       "      <td>130</td>\n",
       "      <td>128</td>\n",
       "      <td>126</td>\n",
       "      <td>126</td>\n",
       "      <td>128</td>\n",
       "      <td>100 86 79 47 23 25 20 23 25 26 36 40 53 58 61 ...</td>\n",
       "    </tr>\n",
       "  </tbody>\n",
       "</table>\n",
       "<p>600 rows × 2305 columns</p>\n",
       "</div>"
      ],
      "text/plain": [
       "       0    1    2    3    4    5    6    7    8    9  ...  2295  2296  2297  \\\n",
       "0    211  215  220  221  219  216  213  210  207  205  ...   170   168   162   \n",
       "1     29   25   58  103  129  134  141  154  157  159  ...   152   144   137   \n",
       "2    122  159  135   51   82   96   78  122  168  169  ...    46    40    29   \n",
       "3    229  229  224  226  211  129   79   55   13   22  ...   150   204   215   \n",
       "4    117  113  109   94   72   62   64   65   68   74  ...   106    93    55   \n",
       "..   ...  ...  ...  ...  ...  ...  ...  ...  ...  ...  ...   ...   ...   ...   \n",
       "595  112  113  114  115  115  114  115  115  115  114  ...   136    97    82   \n",
       "596  206  188  194  168  105   72   35   48   39   54  ...    98    93    85   \n",
       "597   28   53   83   91  102   70   33   16   51  100  ...   186   171   143   \n",
       "598   65   85   96   84   21   23   30   31   35   29  ...   173   122    36   \n",
       "599  100   86   79   47   23   25   20   23   25   26  ...   127   127   128   \n",
       "\n",
       "     2298  2299  2300  2301  2302  2303  \\\n",
       "0     170   169   160   159   156   152   \n",
       "1     118    83    32    31    79    65   \n",
       "2      36    49    47    47    53    54   \n",
       "3     214   220   220   223   202   126   \n",
       "4      30    30    23    49   163   179   \n",
       "..    ...   ...   ...   ...   ...   ...   \n",
       "595   114   112    86    61    31    81   \n",
       "596    85    76    88    88    80    98   \n",
       "597   129   102    29    23    39    39   \n",
       "598    40    44   134   190   210   208   \n",
       "599   129   130   128   126   126   128   \n",
       "\n",
       "                                                pixels  \n",
       "0    211 215 220 221 219 216 213 210 207 205 202 20...  \n",
       "1    29 25 58 103 129 134 141 154 157 159 166 164 1...  \n",
       "2    122 159 135 51 82 96 78 122 168 169 165 166 16...  \n",
       "3    229 229 224 226 211 129 79 55 13 22 24 17 19 1...  \n",
       "4    117 113 109 94 72 62 64 65 68 74 187 213 209 2...  \n",
       "..                                                 ...  \n",
       "595  112 113 114 115 115 114 115 115 115 114 109 10...  \n",
       "596  206 188 194 168 105 72 35 48 39 54 67 77 80 88...  \n",
       "597  28 53 83 91 102 70 33 16 51 100 111 139 162 17...  \n",
       "598  65 85 96 84 21 23 30 31 35 29 28 27 38 88 117 ...  \n",
       "599  100 86 79 47 23 25 20 23 25 26 36 40 53 58 61 ...  \n",
       "\n",
       "[600 rows x 2305 columns]"
      ]
     },
     "execution_count": 12,
     "metadata": {},
     "output_type": "execute_result"
    }
   ],
   "source": [
    "pixel_img"
   ]
  },
  {
   "cell_type": "markdown",
   "id": "4ef63e7d-205e-44c1-847a-8a0a99d463c3",
   "metadata": {},
   "source": [
    "SAVE DATAFRAME"
   ]
  },
  {
   "cell_type": "code",
   "execution_count": 16,
   "id": "928aacb7-97b8-4bcd-8a6a-39e230aba96c",
   "metadata": {
    "tags": []
   },
   "outputs": [],
   "source": [
    "images = pd.DataFrame(pixel_img['pixels'])"
   ]
  },
  {
   "cell_type": "code",
   "execution_count": 17,
   "id": "8acddc2e-159f-48ec-9f23-e1217146d644",
   "metadata": {},
   "outputs": [],
   "source": [
    "final_train = pd.merge(img_label, images, left_index=True, right_index=True, how=\"outer\")"
   ]
  },
  {
   "cell_type": "code",
   "execution_count": 35,
   "id": "c2df3189-8ccf-47c7-a2e3-a68b90bcda0d",
   "metadata": {},
   "outputs": [],
   "source": [
    "train = ['Training', 'PublicTest', 'PrivateTest']\n",
    "train_numbers = [12087, 6044, 6044]\n",
    "\n",
    "train_column = sum([[s] * n for s, n in zip(train, train_numbers)], [])"
   ]
  },
  {
   "cell_type": "code",
   "execution_count": 36,
   "id": "f96d67b3-6149-446a-a33c-c2a960a69226",
   "metadata": {},
   "outputs": [],
   "source": [
    "final_train['Usage'] = train_column"
   ]
  },
  {
   "cell_type": "code",
   "execution_count": 37,
   "id": "fdc15d81-0515-418f-9db0-14249e7217a9",
   "metadata": {},
   "outputs": [],
   "source": [
    "final_train = pd.DataFrame(final_train[['emotion', 'pixels', 'Usage']])"
   ]
  },
  {
   "cell_type": "code",
   "execution_count": 38,
   "id": "0c5fdb58-3aa6-4826-9f1b-7a5919ffbc49",
   "metadata": {
    "tags": []
   },
   "outputs": [],
   "source": [
    "final_train = final_train.reindex(np.random.permutation(final_train.index))"
   ]
  },
  {
   "cell_type": "markdown",
   "id": "08bb703e-9d63-401b-be7a-3e96eed4ff5d",
   "metadata": {},
   "source": [
    "SAVE CSV"
   ]
  },
  {
   "cell_type": "code",
   "execution_count": 40,
   "id": "18a16289-6432-4a61-9c21-4ac2cd0bf074",
   "metadata": {},
   "outputs": [],
   "source": [
    "final_train.to_csv(\"trainingsets.csv\")"
   ]
  }
 ],
 "metadata": {
  "kernelspec": {
   "display_name": "tf",
   "language": "python",
   "name": "tf"
  },
  "language_info": {
   "codemirror_mode": {
    "name": "ipython",
    "version": 3
   },
   "file_extension": ".py",
   "mimetype": "text/x-python",
   "name": "python",
   "nbconvert_exporter": "python",
   "pygments_lexer": "ipython3",
   "version": "3.9.12"
  }
 },
 "nbformat": 4,
 "nbformat_minor": 5
}
